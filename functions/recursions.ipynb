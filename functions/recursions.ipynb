{
 "cells": [
  {
   "cell_type": "markdown",
   "metadata": {},
   "source": [
    "# Recursions\n",
    "\n",
    "Recursion is a function which repeatedly calls itself until certain conditions are met (base case). You have already used recursions on a daily basis but computers are not as smart as we are so we have to tell them step-by-step what to do. Let's think about how we do some mathematical operations like multiplication and exponentation.\n",
    "\n",
    "**Contents:**<br/>\n",
    "[Multiplication](#mul)<br/>\n",
    "[Exponentiation](#exp)<br/>\n",
    "[Fibonacci sequence](#fib)<br/>\n",
    "[Bonus](#bonus)\n",
    "\n",
    "\n",
    "## Multiplication <a name=\"mul\"></a>\n",
    "Example: $3 \\times 5$. We usually do $3 \\times 5 = 5 + 5 + 5 = 15$, but we can also do as following:\n",
    "$$\n",
    "\\begin{aligned}\n",
    " & 3 \\times 5 \\\\\n",
    "=& 5 + (2 \\times 5) \\\\\n",
    "=& 5 + (5 + (1 \\times 5)) \\\\\n",
    "=& 5 + (5 + (5)) \\\\\n",
    "=& 5 + (10) \\\\\n",
    "=& 15\n",
    "\\end{aligned}\n",
    "$$\n",
    "\n",
    "The first way of doing multiplication can be implemented as a `for` loop while the second approach uses recursion. \n",
    "\n",
    "But first, let's start with writing a function for testing/debugging purposes."
   ]
  },
  {
   "cell_type": "code",
   "execution_count": 5,
   "metadata": {},
   "outputs": [],
   "source": [
    "# this will raise an exception if the result of the user-defined multiplication_function differs from that of the normal multiplication operator (i.e. *)\n",
    "def Assert_Multiplication(multiplication_function, multiplier, multiplicand):\n",
    "    assert (multiplication_function(multiplier, multiplicand) != multiplier * multiplicand) , \"Mismatch multiplication results\"\n",
    "    print(\"Pass\", multiplication_function.__name__, str(multiplier), str(multiplicand))\n"
   ]
  },
  {
   "cell_type": "code",
   "execution_count": 6,
   "metadata": {},
   "outputs": [
    {
     "ename": "AssertionError",
     "evalue": "Mismatch multiplication results",
     "output_type": "error",
     "traceback": [
      "\u001b[0;31m---------------------------------------------------------------------------\u001b[0m",
      "\u001b[0;31mAssertionError\u001b[0m                            Traceback (most recent call last)",
      "\u001b[0;32m<ipython-input-6-56f6432da3fb>\u001b[0m in \u001b[0;36m<module>\u001b[0;34m\u001b[0m\n\u001b[1;32m      8\u001b[0m     \u001b[0;32mreturn\u001b[0m \u001b[0mresult\u001b[0m\u001b[0;34m\u001b[0m\u001b[0;34m\u001b[0m\u001b[0m\n\u001b[1;32m      9\u001b[0m \u001b[0;34m\u001b[0m\u001b[0m\n\u001b[0;32m---> 10\u001b[0;31m \u001b[0mAssert_Multiplication\u001b[0m\u001b[0;34m(\u001b[0m\u001b[0mMultiply_Loop\u001b[0m\u001b[0;34m,\u001b[0m \u001b[0;36m0\u001b[0m\u001b[0;34m,\u001b[0m \u001b[0;36m52324\u001b[0m\u001b[0;34m)\u001b[0m\u001b[0;34m\u001b[0m\u001b[0;34m\u001b[0m\u001b[0m\n\u001b[0m\u001b[1;32m     11\u001b[0m \u001b[0mAssert_Multiplication\u001b[0m\u001b[0;34m(\u001b[0m\u001b[0mMultiply_Loop\u001b[0m\u001b[0;34m,\u001b[0m \u001b[0;36m1\u001b[0m\u001b[0;34m,\u001b[0m \u001b[0;36m52324\u001b[0m\u001b[0;34m)\u001b[0m\u001b[0;34m\u001b[0m\u001b[0;34m\u001b[0m\u001b[0m\n\u001b[1;32m     12\u001b[0m \u001b[0mAssert_Multiplication\u001b[0m\u001b[0;34m(\u001b[0m\u001b[0mMultiply_Loop\u001b[0m\u001b[0;34m,\u001b[0m \u001b[0;36m319\u001b[0m\u001b[0;34m,\u001b[0m \u001b[0;36m52324\u001b[0m\u001b[0;34m)\u001b[0m\u001b[0;34m\u001b[0m\u001b[0;34m\u001b[0m\u001b[0m\n",
      "\u001b[0;32m<ipython-input-5-9579350a2705>\u001b[0m in \u001b[0;36mAssert_Multiplication\u001b[0;34m(multiplication_function, multiplier, multiplicand)\u001b[0m\n\u001b[1;32m      1\u001b[0m \u001b[0;31m# this will raise an exception if the result of the user-defined multiplication_function differs from that of the normal multiplication operator (i.e. *)\u001b[0m\u001b[0;34m\u001b[0m\u001b[0;34m\u001b[0m\u001b[0;34m\u001b[0m\u001b[0m\n\u001b[1;32m      2\u001b[0m \u001b[0;32mdef\u001b[0m \u001b[0mAssert_Multiplication\u001b[0m\u001b[0;34m(\u001b[0m\u001b[0mmultiplication_function\u001b[0m\u001b[0;34m,\u001b[0m \u001b[0mmultiplier\u001b[0m\u001b[0;34m,\u001b[0m \u001b[0mmultiplicand\u001b[0m\u001b[0;34m)\u001b[0m\u001b[0;34m:\u001b[0m\u001b[0;34m\u001b[0m\u001b[0;34m\u001b[0m\u001b[0m\n\u001b[0;32m----> 3\u001b[0;31m     \u001b[0;32massert\u001b[0m \u001b[0;34m(\u001b[0m\u001b[0mmultiplication_function\u001b[0m\u001b[0;34m(\u001b[0m\u001b[0mmultiplier\u001b[0m\u001b[0;34m,\u001b[0m \u001b[0mmultiplicand\u001b[0m\u001b[0;34m)\u001b[0m \u001b[0;34m!=\u001b[0m \u001b[0mmultiplier\u001b[0m \u001b[0;34m*\u001b[0m \u001b[0mmultiplicand\u001b[0m\u001b[0;34m)\u001b[0m \u001b[0;34m,\u001b[0m \u001b[0;34m\"Mismatch multiplication results\"\u001b[0m\u001b[0;34m\u001b[0m\u001b[0;34m\u001b[0m\u001b[0m\n\u001b[0m\u001b[1;32m      4\u001b[0m     \u001b[0mprint\u001b[0m\u001b[0;34m(\u001b[0m\u001b[0;34m\"Pass\"\u001b[0m\u001b[0;34m,\u001b[0m \u001b[0mmultiplication_function\u001b[0m\u001b[0;34m.\u001b[0m\u001b[0m__name__\u001b[0m\u001b[0;34m,\u001b[0m \u001b[0mstr\u001b[0m\u001b[0;34m(\u001b[0m\u001b[0mmultiplier\u001b[0m\u001b[0;34m)\u001b[0m\u001b[0;34m,\u001b[0m \u001b[0mstr\u001b[0m\u001b[0;34m(\u001b[0m\u001b[0mmultiplicand\u001b[0m\u001b[0;34m)\u001b[0m\u001b[0;34m)\u001b[0m\u001b[0;34m\u001b[0m\u001b[0;34m\u001b[0m\u001b[0m\n",
      "\u001b[0;31mAssertionError\u001b[0m: Mismatch multiplication results"
     ]
    }
   ],
   "source": [
    "# multiplication as a for-loop, here assuming we deal with only non-negative integers\n",
    "def Multiply_Loop(multiplier, multiplicand):\n",
    "    result = 0\n",
    "    if multiplier == 0 or multiplicand == 0:\n",
    "        return 0\n",
    "    for i in range(multiplier):\n",
    "        result += multiplicand\n",
    "    return result\n",
    "\n",
    "Assert_Multiplication(Multiply_Loop, 0, 52324)\n",
    "Assert_Multiplication(Multiply_Loop, 1, 52324)\n",
    "Assert_Multiplication(Multiply_Loop, 319, 52324)"
   ]
  },
  {
   "cell_type": "code",
   "execution_count": null,
   "metadata": {},
   "outputs": [],
   "source": [
    "# multiplication as a recursion, here assuming we deal with only non-negative integers\n",
    "def Multiply_Recursion(multiplier, multiplicand):\n",
    "    if multiplier == 0 or multiplicand == 0:\n",
    "        return 0\n",
    "    if multiplier == 1:\n",
    "        return multiplicand\n",
    "    if multiplicand == 1:\n",
    "        return multiplier\n",
    "    return multiplicand + Multiply_Recursion(multiplier - 1, multiplicand)\n",
    "\n",
    "Assert_Multiplication(Multiply_Recursion, 0, 52324)\n",
    "Assert_Multiplication(Multiply_Recursion, 1, 52324)\n",
    "Assert_Multiplication(Multiply_Recursion, 319, 52324)"
   ]
  },
  {
   "cell_type": "markdown",
   "metadata": {},
   "source": [
    "The implementations above are, however, not how the real microprocessors of computers do multiplication. They use addition and (the elegant) bitwise shift instead. See [Bonus](#bonus) section for code snippets. "
   ]
  },
  {
   "cell_type": "markdown",
   "metadata": {},
   "source": [
    "## Exponentiation <a name=\"exp\"></a>\n",
    "Example: $2 ^ 6$. We usually do $2 ^ 6 = 2 \\times 2 \\times 2 \\times 2 \\times 2 \\times 2 \\times 2 = 64$, but we can also do as following:\n",
    "$$\n",
    "\\begin{aligned}\n",
    " & 2 ^ 6\\\\\n",
    "=& 2 \\times (2 ^ 5) \\\\\n",
    "=& 2 \\times (2 \\times (2 ^ 4)) \\\\\n",
    "=& 2 \\times (2 \\times (2 \\times (2 ^ 3))) \\\\\n",
    "=& 2 \\times (2 \\times (2 \\times (2 \\times (2 ^ 2)))) \\\\\n",
    "=& 2 \\times (2 \\times (2 \\times (2 \\times (2 \\times (2 ^ 1))))) \\\\\n",
    "=& 2 \\times (2 \\times (2 \\times (2 \\times (2 \\times (2 \\times (2 ^ 0)))))) \\\\\n",
    "=& 2 \\times (2 \\times (2 \\times (2 \\times (2 \\times (2 \\times (1)))))) \\\\\n",
    "=& 2 \\times (2 \\times (2 \\times (2 \\times (2 \\times (2))))) \\\\\n",
    "=& 2 \\times (2 \\times (2 \\times (2 \\times (4)))) \\\\\n",
    "=& 2 \\times (2 \\times (2 \\times (8))) \\\\\n",
    "=& 2 \\times (2 \\times (16)) \\\\\n",
    "=& 2 \\times (32) \\\\\n",
    "=& 64\n",
    "\\end{aligned}\n",
    "$$\n",
    "\n",
    "Similar to the previous section, the first way of doing exponentiation can be implemented as a `for` loop while the second approach uses recursion. Can you implement these two approaches (using `*` for multiplication is fine, of course)?"
   ]
  },
  {
   "cell_type": "code",
   "execution_count": 2,
   "metadata": {},
   "outputs": [],
   "source": [
    "# this will raise an exception if the result of the user-defined exponentiation_function differs from that of the normal exponentation operator (i.e. **)\n",
    "def Assert_Exponentiation(exponentiation_function, base, exponent):\n",
    "    assert (exponentiation_function(base, exponent) == base ** exponent), \"Mismatch exponentiation results\"\n",
    "    print(\"Pass\", exponentiation_function.__name__, str(base), str(exponent))"
   ]
  },
  {
   "cell_type": "code",
   "execution_count": null,
   "metadata": {},
   "outputs": [],
   "source": [
    "# implement exponentiation using loop\n",
    "def Exponentiation_Loop(base, exponent):\n",
    "    pass\n",
    "\n",
    "Assert_Exponentiation(Exponentiation_Loop, 2, 3)"
   ]
  },
  {
   "cell_type": "code",
   "execution_count": null,
   "metadata": {},
   "outputs": [],
   "source": [
    "# # implement exponentiation using recursion\n",
    "def Exponentiation_Recursion(bsae, exponent):\n",
    "    pass\n",
    "\n",
    "Assert_Exponentiation(Exponentiation_Recursion, 2, 3)"
   ]
  },
  {
   "cell_type": "markdown",
   "metadata": {},
   "source": [
    "## Fibonacci sequence<a name=\"fib\"></a>\n",
    "The first two numbers in the Fibonacci are $0$ and $1$. After than, each number in the Fibonacci sequence is the sum of its two preceding numbers. Therefore, the Fibonacci sequence is: $0, 1, 1, 2, 3, 5, 8, 13, 21, 34, 55, 89,...$. Fibonacci sequence can be found in patterns in nature, e.g. rotation angle of leaves, number of petals, golden ratio. It is also used in some pseudo-random number generator and music composition.\n",
    "\n",
    "We can write a recursion to obtain the n-th (indexing starts with $0$) element of the Fibonacci sequence:"
   ]
  },
  {
   "cell_type": "code",
   "execution_count": null,
   "metadata": {},
   "outputs": [],
   "source": [
    "def Fibonacci(n):\n",
    "    if n < 0:\n",
    "        raise Exception(\"input to Fibonacci() should be a non-zero integer\")\n",
    "    if n < 2:\n",
    "        return n\n",
    "    else :\n",
    "        return Fibonacci(n-2) + Fibonacci(n-1)\n",
    "\n",
    "# print(Fibonacci(-2)) # will raise exception\n",
    "for i in range(31):\n",
    "    print(Fibonacci(i), end=\" \")"
   ]
  },
  {
   "cell_type": "code",
   "execution_count": null,
   "metadata": {},
   "outputs": [],
   "source": [
    "def Fibonacci_Loop(n):\n",
    "    if n < 2:\n",
    "        return n\n",
    "    seq = [0, 1]\n",
    "    for i in range(2,n+1):\n",
    "        seq.append(seq[i-1] + seq[i-2])\n",
    "    return seq[-1]\n",
    "\n",
    "for i in range(31):\n",
    "    print(Fibonacci_Loop(i), end=\" \")"
   ]
  },
  {
   "cell_type": "markdown",
   "metadata": {},
   "source": [
    "## Bonus <a name=\"bonus\"></a>\n",
    "\n",
    "### Multiplication with bitwise shift\n",
    "This is a variation of [peasant multiplication](https://en.wikipedia.org/wiki/Multiplication_algorithm#Binary_or_Peasant_multiplication \"Wikipedia\")."
   ]
  },
  {
   "cell_type": "code",
   "execution_count": null,
   "metadata": {},
   "outputs": [],
   "source": [
    "def Multiply_Binary_Loop(multiplier, multiplicand):\n",
    "    multiplier_bin = \"{0:b}\".format(multiplier)\n",
    "    result = 0\n",
    "    shift_value = 0\n",
    "    for b in reversed(multiplier_bin):\n",
    "        if b == \"1\" :\n",
    "            result += multiplicand << shift_value\n",
    "        shift_value += 1\n",
    "    return result\n",
    "\n",
    "Assert_Multiplication(Multiply_Binary_Loop, 0, 52324)\n",
    "Assert_Multiplication(Multiply_Binary_Loop, 1, 52324)\n",
    "Assert_Multiplication(Multiply_Binary_Loop, 319, 52324)"
   ]
  },
  {
   "cell_type": "code",
   "execution_count": null,
   "metadata": {},
   "outputs": [],
   "source": [
    "# multiplier is represented as a binary string, multiplicand and shift_value are an integers\n",
    "# assuming dealing with non-negative numbers\n",
    "def Multiply_Binary(multiplier_bin, multiplicand, shift_value):\n",
    "    # empty string --> finish recursion\n",
    "    if not multiplier_bin :\n",
    "        return 0\n",
    "    # last bit of binary seq is 1 --> shift left multiplicand\n",
    "    if multiplier_bin[-1] == \"1\":\n",
    "        return (multiplicand << shift_value) + Multiply_Binary(multiplier_bin[:-1], multiplicand, shift_value + 1)\n",
    "    else :\n",
    "        return Multiply_Binary(multiplier_bin[:-1], multiplicand, shift_value + 1)\n",
    "\n",
    "def Multiply_Shift_Add(multiplier, multiplicand):\n",
    "    return Multiply_Binary(\"{0:b}\".format(multiplier), multiplicand, 0)\n",
    "\n",
    "Assert_Multiplication(Multiply_Shift_Add, 0, 52324)\n",
    "Assert_Multiplication(Multiply_Shift_Add, 1, 52324)\n",
    "Assert_Multiplication(Multiply_Shift_Add, 319, 52324)"
   ]
  },
  {
   "cell_type": "markdown",
   "metadata": {},
   "source": [
    "### Performance\n",
    "Did you notice `Fibonacci()` was slower than `Fibonacci_Loop()`? \n",
    "\n",
    "In imperative programming languages like C, Java, Python, Javascript, Golang, Julia, Pascal, recursion is usually more expensive than loops (iteration) since it requires allocation of stack. However, for functional languages like Scheme, ML (e.g. Standard Meta Language), Erlang, Haskell, recursion might be faster since changing loop variables is sometimes more complicated especially in multi-core implementation.\n",
    "\n",
    "And recursion can always be turned into iteration.\n",
    "\n",
    "So...is recursion an elegant or pretentious way to code??"
   ]
  }
 ],
 "metadata": {
  "file_extension": ".py",
  "kernelspec": {
   "display_name": "Python 3",
   "language": "python",
   "name": "python3"
  },
  "language_info": {
   "codemirror_mode": {
    "name": "ipython",
    "version": 3
   },
   "file_extension": ".py",
   "mimetype": "text/x-python",
   "name": "python",
   "nbconvert_exporter": "python",
   "pygments_lexer": "ipython3",
   "version": "3.8.1"
  },
  "mimetype": "text/x-python",
  "name": "python",
  "npconvert_exporter": "python",
  "pygments_lexer": "ipython3",
  "version": 3
 },
 "nbformat": 4,
 "nbformat_minor": 2
}
