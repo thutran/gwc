{
 "cells": [
  {
   "cell_type": "markdown",
   "metadata": {},
   "source": [
    "# Debugging\n",
    "\n",
    "How can you mend this broken...code?<br/>\n",
    "How can a...python...ever win?<br/>\n",
    "Please help me mend my broken...code...and let me...run...again.<br/>\n"
   ]
  },
  {
   "cell_type": "markdown",
   "metadata": {},
   "source": [
    "## Greetings\n",
    "Here we write a function to help Python greet the user. \n",
    "\n",
    "First, we ask the user for their name. We then pass the name to the function as an argument so that Python can greet the user then introduce itself."
   ]
  },
  {
   "cell_type": "code",
   "execution_count": null,
   "metadata": {},
   "outputs": [],
   "source": [
    "def Greet(name) :\n",
    "    print(\"Hi \" + name + \", my name is Python.\" )\n",
    "\n",
    "user_name = input(\"Please enter your name: \")\n",
    " Greet()"
   ]
  },
  {
   "cell_type": "code",
   "execution_count": null,
   "metadata": {},
   "outputs": [],
   "source": [
    "# your code\n",
    "\n",
    "\n",
    "\n",
    "\n"
   ]
  },
  {
   "cell_type": "markdown",
   "metadata": {},
   "source": [
    "****\n",
    "\n",
    "What if we want a generic function to greet the user without using their name, something that would output a simple line *Hi there, my name is Python.* when no value for the `name` argument is provided?"
   ]
  },
  {
   "cell_type": "code",
   "execution_count": null,
   "metadata": {},
   "outputs": [],
   "source": [
    "# your code\n",
    "\n",
    "\n",
    "\n",
    "\n"
   ]
  },
  {
   "cell_type": "markdown",
   "metadata": {},
   "source": [
    "****\n",
    "\n",
    "Now the function asks the user for not only their name but also their age so that it can construct a more elaborated greeting."
   ]
  },
  {
   "cell_type": "code",
   "execution_count": null,
   "metadata": {},
   "outputs": [],
   "source": [
    "import datetime as dt\n",
    "\n",
    "def Greet(name, age) :\n",
    "    my_name = \"Python\"\n",
    "    my_birthyear = 1990\n",
    "    \n",
    "    print('''Hi '''+ name +''', you were born in '''+ dt.datetime.now().year - age +'''.\n",
    "    My name is '''+ my_name + ''' and I was born in ''' + str(my_birthyear) +'''.''')\n",
    "\n",
    "\n",
    "user_name = input(\"Please enter your name: \")\n",
    "user_age = input(\"Please enter your age as of the end of this year: \")\n",
    "Greet(user_name, user_age)"
   ]
  },
  {
   "cell_type": "code",
   "execution_count": null,
   "metadata": {},
   "outputs": [],
   "source": [
    "# your code\n",
    "\n",
    "\n",
    "\n",
    "    \n",
    "    \n",
    "    \n",
    "    \n",
    "    \n",
    "\n",
    "\n",
    "\n",
    "\n"
   ]
  },
  {
   "cell_type": "markdown",
   "metadata": {},
   "source": [
    "## Fun with numbers\n",
    "Here we write a simple function to tell if the number entered by the user is negative or positive."
   ]
  },
  {
   "cell_type": "code",
   "execution_count": null,
   "metadata": {},
   "outputs": [],
   "source": [
    "def Sign_Number(number):\n",
    "    if number > 0 :\n",
    "        print(number, \"is a positive number.\")\n",
    "    else if number < 0 :\n",
    "        print(number, \"is a negative number.\")\n",
    "    else :\n",
    "        print(number, \"is zero\")\n",
    "\n",
    "num = float(input(\"Please enter a number: \"))\n",
    "Sign_Number(num)"
   ]
  },
  {
   "cell_type": "code",
   "execution_count": null,
   "metadata": {},
   "outputs": [],
   "source": [
    "# your code\n",
    "\n",
    "    \n",
    "        \n",
    "    \n",
    "        \n",
    "    \n",
    "        \n",
    "\n",
    "\n"
   ]
  },
  {
   "cell_type": "markdown",
   "metadata": {},
   "source": [
    "****\n",
    "\n",
    "Here we write a simple function to return the square root of the input number. Hint: the square root function is already implemented in `math` module."
   ]
  },
  {
   "cell_type": "code",
   "execution_count": null,
   "metadata": {},
   "outputs": [],
   "source": [
    "def Square_Root(number):\n",
    "    return sqrt(number)\n",
    "\n",
    "Square_Root(4)\n",
    "Square_Root(0)\n",
    "Square_Root(-9)"
   ]
  },
  {
   "cell_type": "code",
   "execution_count": null,
   "metadata": {},
   "outputs": [],
   "source": [
    "# your code\n",
    "\n",
    "    \n",
    "\n",
    "\n",
    "\n"
   ]
  },
  {
   "cell_type": "markdown",
   "metadata": {},
   "source": [
    "## Level-up\n",
    "Here we write a function which takes two integers $a$ and $b$ ($a$ <= $b$) as input and returns the sum of all numbers from $a$ to $b$."
   ]
  },
  {
   "cell_type": "code",
   "execution_count": null,
   "metadata": {},
   "outputs": [],
   "source": [
    "def Sum_AB(a, b) :\n",
    "    if a > b :\n",
    "        raise Exception(\"a must be larger than or equal to b.\")\n",
    "    result = 0\n",
    "    for i in range(a,b):\n",
    "        result += i\n",
    "    return result\n",
    "\n",
    "\n",
    "assert(Sum_AB(-1,3) == 5), \"Sum of all integers from -1 to 3 should be 5\""
   ]
  },
  {
   "cell_type": "code",
   "execution_count": null,
   "metadata": {},
   "outputs": [],
   "source": [
    "# your code\n",
    "def Sum_AB(a, b) :\n",
    "    pass\n",
    "        \n",
    "    \n",
    "        \n",
    "    \n",
    "    \n",
    "        \n",
    "    \n",
    "\n",
    "assert(Sum_AB(-1,3) == 5), \"Sum of all integers from -1 to 3 should be 5\""
   ]
  },
  {
   "cell_type": "markdown",
   "metadata": {},
   "source": [
    "****\n",
    "\n",
    "A more pythonic way to write the `Sum_AB` function is (but the chunk of code below is still buggy):"
   ]
  },
  {
   "cell_type": "code",
   "execution_count": null,
   "metadata": {},
   "outputs": [],
   "source": [
    "def Sum_AB(a, b) :\n",
    "    if a > b :\n",
    "        raise Exception(\"a must be larger than or equal to b.\")\n",
    "    return sum(i for i in range(a,b))\n",
    "\n",
    "assert(Sum_AB(-1,3) == 5), \"Sum of all integers from -1 to 3 should be 5\""
   ]
  },
  {
   "cell_type": "code",
   "execution_count": 1,
   "metadata": {},
   "outputs": [
    {
     "ename": "SyntaxError",
     "evalue": "invalid syntax (<ipython-input-1-561a7dbcc16c>, line 4)",
     "output_type": "error",
     "traceback": [
      "\u001b[0;36m  File \u001b[0;32m\"<ipython-input-1-561a7dbcc16c>\"\u001b[0;36m, line \u001b[0;32m4\u001b[0m\n\u001b[0;31m    return sum(i for i in range(a,b) if a > b raise Exception(\"a must be larger than or equal to b.\"))\u001b[0m\n\u001b[0m                                                  ^\u001b[0m\n\u001b[0;31mSyntaxError\u001b[0m\u001b[0;31m:\u001b[0m invalid syntax\n"
     ]
    }
   ],
   "source": [
    "def Sum_AB(a, b) :\n",
    "#     if a > b :\n",
    "#         raise Exception(\"a must be larger than or equal to b.\")\n",
    "    return sum(i for i in range(a,b) if a > b raise Exception(\"a must be larger than or equal to b.\"))\n",
    "\n",
    "print(Sum_AB(0,3))"
   ]
  },
  {
   "cell_type": "code",
   "execution_count": null,
   "metadata": {},
   "outputs": [],
   "source": []
  }
 ],
 "metadata": {
  "kernelspec": {
   "display_name": "Python 3",
   "language": "python",
   "name": "python3"
  },
  "language_info": {
   "codemirror_mode": {
    "name": "ipython",
    "version": 3
   },
   "file_extension": ".py",
   "mimetype": "text/x-python",
   "name": "python",
   "nbconvert_exporter": "python",
   "pygments_lexer": "ipython3",
   "version": "3.6.9"
  }
 },
 "nbformat": 4,
 "nbformat_minor": 2
}
