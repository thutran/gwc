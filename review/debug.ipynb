{
 "cells": [
  {
   "cell_type": "markdown",
   "metadata": {},
   "source": [
    "# Debugging\n",
    "Contributors: Marissa Beighley, Thu Tran\n",
    "\n",
    "***\n",
    "\n",
    "How can you mend this broken...code?<br/>\n",
    "How can a...python...ever win?<br/>\n",
    "Please help me mend my broken...code...and let me...run...again.<br/>\n"
   ]
  },
  {
   "cell_type": "markdown",
   "metadata": {},
   "source": [
    "**Contents**<br/>\n",
    "[Tip-your-server app](#tip) <br/>\n",
    "[Self-checkout program](#checkout) <br/>\n",
    "[What's wrong with my shopping list](#shop_list) <br/>\n",
    "[Lemonade stand fundraiser](#lemonade) <br/>\n",
    "[Greetings](#greet) <br/>\n",
    "[Fun with numbers](#fun_num) <br/>\n",
    "[Level-up](#sum_assert) <br/>\n",
    "\n",
    "\n",
    "****\n",
    "\n",
    "Work with your team to come up with answers to these, some are debugging and some are writing your own code! Let the game begins!\n"
   ]
  },
  {
   "cell_type": "markdown",
   "metadata": {},
   "source": [
    "## Tip-your-server app <a name=\"tip\"/>\n",
    "You are creating an app for people to calculate tips at a restaurant..."
   ]
  },
  {
   "cell_type": "code",
   "execution_count": null,
   "metadata": {},
   "outputs": [],
   "source": [
    "# First you enter the cost of your meal.\n",
    "mealCost = input(\"What is the total cost of your meal?\")\n",
    "\n",
    "# The waitress was good, so let's tip her 20% and add that to the meal cost to get our total.\n",
    "total = mealCost + (mealCost * .20)\n",
    "\n",
    "# Now we must tell the user what their total cost is!\n",
    "print(\"The total cost of your meal is $\" + total)"
   ]
  },
  {
   "cell_type": "markdown",
   "metadata": {},
   "source": [
    "...but the tip calculation won't print! Can you debug the code above?"
   ]
  },
  {
   "cell_type": "code",
   "execution_count": null,
   "metadata": {},
   "outputs": [],
   "source": [
    "# your code\n",
    "# First you enter the cost of your meal.\n",
    "\n",
    "\n",
    "# The waitress was good, so let's tip her 20% and add that to the meal cost to get our total.\n",
    "\n",
    "\n",
    "# Now we must tell the user what their total cost is!\n"
   ]
  },
  {
   "cell_type": "markdown",
   "metadata": {},
   "source": [
    "## Self-checkout program <a name=\"checkout\"/>\n",
    "Suppose you are writing a program for the self-checkout cash registers at Target. If somebody puts a certain amount of money in the machine, we need to tell them how much is still due or give back change if they put in more than the cost. What can we use to keep track of these different cases?"
   ]
  },
  {
   "cell_type": "code",
   "execution_count": null,
   "metadata": {},
   "outputs": [],
   "source": [
    "# starter code\n",
    "totalCost = int(input(\"The total cost of the items is: \"))\n",
    "amountPaid = int(input(\"The amount of cash paid into the machine is: \"))\n",
    "\n",
    "# your code\n",
    "# tell the customer how much is still due or give back change if they put in more than the cost\n",
    "\n",
    "\n",
    "\n",
    "\n",
    "\n"
   ]
  },
  {
   "cell_type": "markdown",
   "metadata": {},
   "source": [
    "## What's wrong with my shopping list? <a name=\"shop_list\"/>\n",
    "Since you're already at Target to fix the self-checkout program, you decide to do grocery shopping there too. You've already got your shopping list but for some reason, the last item on the list does not display...another bug for you to fix."
   ]
  },
  {
   "cell_type": "code",
   "execution_count": null,
   "metadata": {},
   "outputs": [],
   "source": [
    "shoppingList = ['apples', 'yogurt', 'paper towels', 'bread', 'eggs', 'milk', 'cheese']\n",
    "lastItemIndex = len(shoppingList)\n",
    "print(\"The last item in the shopping list is: \" + shoppingList[lastItemIndex])"
   ]
  },
  {
   "cell_type": "code",
   "execution_count": null,
   "metadata": {},
   "outputs": [],
   "source": [
    "# your code\n",
    "\n",
    "\n"
   ]
  },
  {
   "cell_type": "markdown",
   "metadata": {},
   "source": [
    "## Lemonade stand fundraiser <a name=\"lemonade\"/>\n",
    "I'm selling lemonade to reach my goal of making \\$200, but I am not sure how long it will take to raise the money. I have no idea how much money I will make each day, and need to keep track of how close I am to my goal so I've decided to write an app to help me keep track of the total money raised. But I must have messed it up somewhere as the app wouldn't operate the way I wanted it to. Can you please help me fix it? I'll save you some lemonade :) "
   ]
  },
  {
   "cell_type": "code",
   "execution_count": null,
   "metadata": {},
   "outputs": [],
   "source": [
    "# my buggy code\n",
    "import random\n",
    "totalSales = 0\n",
    "dayNum = 0\n",
    "while (totalSales < 200):\n",
    "    totalSales = random.randint(0, 75)\n",
    "    dayNum += 1\n",
    "    print(\"After \"+ str(dayNum) + \" days of selling, the total is: \" + str(totalSales))"
   ]
  },
  {
   "cell_type": "code",
   "execution_count": null,
   "metadata": {},
   "outputs": [],
   "source": [
    "# your code\n",
    "\n",
    "\n",
    "\n",
    "    \n",
    "    \n",
    "    "
   ]
  },
  {
   "cell_type": "markdown",
   "metadata": {},
   "source": [
    "****\n",
    "\n",
    "## Greetings <a name=\"greet\"/>\n",
    "Here we write a function to help Python greet the user. \n",
    "\n",
    "### Simple greetings\n",
    "First, we ask the user for their name. We then pass the name to the function as an argument so that Python can greet the user then introduce itself."
   ]
  },
  {
   "cell_type": "code",
   "execution_count": null,
   "metadata": {},
   "outputs": [],
   "source": [
    "def Greet(name) :\n",
    "    print(\"Hi \" + name + \", my name is Python.\" )\n",
    "\n",
    "user_name = input(\"Please enter your name: \")\n",
    " Greet()"
   ]
  },
  {
   "cell_type": "code",
   "execution_count": null,
   "metadata": {},
   "outputs": [],
   "source": [
    "# your code\n",
    "\n",
    "\n",
    "\n",
    "\n"
   ]
  },
  {
   "cell_type": "markdown",
   "metadata": {},
   "source": [
    "### Mysterious greetings\n",
    "What if we want a generic function to greet the user without using their name, something that would output a simple line *Hi there, my name is Python.* when no value for the `name` argument is provided?"
   ]
  },
  {
   "cell_type": "code",
   "execution_count": null,
   "metadata": {},
   "outputs": [],
   "source": [
    "# your code\n",
    "\n",
    "\n",
    "\n",
    "\n"
   ]
  },
  {
   "cell_type": "markdown",
   "metadata": {},
   "source": [
    "### Mathy greetings\n",
    "Now the function asks the user for not only their name but also their age so that it can construct a more elaborated greeting."
   ]
  },
  {
   "cell_type": "code",
   "execution_count": null,
   "metadata": {},
   "outputs": [],
   "source": [
    "import datetime as dt\n",
    "\n",
    "def Greet(name, age) :\n",
    "    my_name = \"Python\"\n",
    "    my_birthyear = 1990\n",
    "    \n",
    "    print('''Hi '''+ name +''', you were born in '''+ dt.datetime.now().year - age +'''.\n",
    "    My name is '''+ my_name + ''' and I was born in ''' + str(my_birthyear) +'''.''')\n",
    "\n",
    "\n",
    "user_name = input(\"Please enter your name: \")\n",
    "user_age = input(\"Please enter your age as of the end of this year: \")\n",
    "Greet(user_name, user_age)"
   ]
  },
  {
   "cell_type": "code",
   "execution_count": null,
   "metadata": {},
   "outputs": [],
   "source": [
    "# your code\n",
    "\n",
    "\n",
    "\n",
    "    \n",
    "    \n",
    "    \n",
    "    \n",
    "    \n",
    "\n",
    "\n",
    "\n",
    "\n"
   ]
  },
  {
   "cell_type": "markdown",
   "metadata": {},
   "source": [
    "## Fun with numbers <a name=\"fun_num\"/>\n",
    "\n",
    "### What's the sign of my number?\n",
    "Here we write a simple function to tell if the number entered by the user is negative or positive."
   ]
  },
  {
   "cell_type": "code",
   "execution_count": null,
   "metadata": {},
   "outputs": [],
   "source": [
    "def Sign_Number(number):\n",
    "    if number > 0 :\n",
    "        print(number, \"is a positive number.\")\n",
    "    else if number < 0 :\n",
    "        print(number, \"is a negative number.\")\n",
    "    else :\n",
    "        print(number, \"is zero\")\n",
    "\n",
    "num = float(input(\"Please enter a number: \"))\n",
    "Sign_Number(num)"
   ]
  },
  {
   "cell_type": "code",
   "execution_count": null,
   "metadata": {},
   "outputs": [],
   "source": [
    "# your code\n",
    "\n",
    "    \n",
    "        \n",
    "    \n",
    "        \n",
    "    \n",
    "        \n",
    "\n",
    "\n"
   ]
  },
  {
   "cell_type": "markdown",
   "metadata": {},
   "source": [
    "### Square root\n",
    "Here we write a simple function to return the square root of the input number. Hint: the square root function is already implemented in `math` module."
   ]
  },
  {
   "cell_type": "code",
   "execution_count": null,
   "metadata": {},
   "outputs": [],
   "source": [
    "def Square_Root(number):\n",
    "    return sqrt(number)\n",
    "\n",
    "Square_Root(4)\n",
    "Square_Root(0)\n",
    "Square_Root(-9)"
   ]
  },
  {
   "cell_type": "code",
   "execution_count": null,
   "metadata": {},
   "outputs": [],
   "source": [
    "# your code\n",
    "\n",
    "    \n",
    "\n",
    "\n",
    "\n"
   ]
  },
  {
   "cell_type": "markdown",
   "metadata": {},
   "source": [
    "## Level-up <a name=\"sum_assert\"/>\n",
    "\n",
    "### Summation\n",
    "Here we write a function which takes two integers $a$ and $b$ ($a$ <= $b$) as input and returns the sum of all numbers from $a$ to $b$."
   ]
  },
  {
   "cell_type": "code",
   "execution_count": null,
   "metadata": {},
   "outputs": [],
   "source": [
    "def Sum_AB(a, b) :\n",
    "    if a > b :\n",
    "        raise Exception(\"a must be larger than or equal to b.\")\n",
    "    result = 0\n",
    "    for i in range(a,b):\n",
    "        result += i\n",
    "    return result\n",
    "\n",
    "\n",
    "assert(Sum_AB(-1,3) == 5), \"Sum of all integers from -1 to 3 should be 5\""
   ]
  },
  {
   "cell_type": "code",
   "execution_count": null,
   "metadata": {},
   "outputs": [],
   "source": [
    "# your code\n",
    "def Sum_AB(a, b) :\n",
    "    pass\n",
    "        \n",
    "    \n",
    "        \n",
    "    \n",
    "    \n",
    "        \n",
    "    \n",
    "\n",
    "assert(Sum_AB(-1,3) == 5), \"Sum of all integers from -1 to 3 should be 5\""
   ]
  },
  {
   "cell_type": "markdown",
   "metadata": {},
   "source": [
    "### Python does summation the python's way\n",
    "A more pythonic way to write the `Sum_AB` function is (but the chunk of code below is still buggy):"
   ]
  },
  {
   "cell_type": "code",
   "execution_count": null,
   "metadata": {},
   "outputs": [],
   "source": [
    "def Sum_AB(a, b) :\n",
    "    if a > b :\n",
    "        raise Exception(\"a must be larger than or equal to b.\")\n",
    "    return sum(i for i in range(a,b))\n",
    "\n",
    "assert(Sum_AB(-1,3) == 5), \"Sum of all integers from -1 to 3 should be 5\""
   ]
  },
  {
   "cell_type": "code",
   "execution_count": null,
   "metadata": {},
   "outputs": [],
   "source": [
    "# your code\n",
    "\n",
    "\n",
    "\n",
    "\n"
   ]
  }
 ],
 "metadata": {
  "kernelspec": {
   "display_name": "Python 3",
   "language": "python",
   "name": "python3"
  },
  "language_info": {
   "codemirror_mode": {
    "name": "ipython",
    "version": 3
   },
   "file_extension": ".py",
   "mimetype": "text/x-python",
   "name": "python",
   "nbconvert_exporter": "python",
   "pygments_lexer": "ipython3",
   "version": "3.6.9"
  }
 },
 "nbformat": 4,
 "nbformat_minor": 2
}
