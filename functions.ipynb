{
 "cells": [
  {
   "cell_type": "markdown",
   "metadata": {},
   "source": [
    "# Functions\n",
    "\n",
    "## Intro\n",
    "Imagine you're hosting a smoothie party and 10 of your friends are coming over. You have prepared the following ingredients: \n",
    "* strawberries\n",
    "* blackberries\n",
    "* raspberries\n",
    "* bananas\n",
    "* peaches\n",
    "* mangoes\n",
    "* oranges\n",
    "\n",
    "You are offering made-to-order smoothies, and that's how the frenzy begins...\n",
    "\n",
    "## Scenario 1: easy-to-please friends\n",
    "All of your friends love bananas and some also like strawberries. So you've got 7 orders of banana smoothies and 3 orders of strawberry-banana smoothies. You by the blender in the kitchen:"
   ]
  },
  {
   "cell_type": "code",
   "execution_count": null,
   "metadata": {},
   "outputs": [],
   "source": [
    "# make 7 banana smoothies\n",
    "for i in range(7):\n",
    "    print(\"Add bananas\")\n",
    "    print(\"Add vanilla yogurt, milk, and ice\")\n",
    "    print(\"Blend\")\n",
    "    print(\"---A banana smoothies has been made---\")\n",
    "    \n",
    "# make 3 strawberry-banana smoothies\n",
    "for i in range(3):\n",
    "    print(\"Add strawberries\")\n",
    "    print(\"Add bananas\")\n",
    "    print(\"Add vanilla yogurt, milk, and ice\")\n",
    "    print(\"Blend\")\n",
    "    print(\"---A strawberry banana smoothies has been made---\")"
   ]
  },
  {
   "cell_type": "markdown",
   "metadata": {},
   "source": [
    "## Scenario 2: an organized host and a diverse group of friends\n",
    "You're an organized person so you've separated each type of fruit to different containers and labeled them with numbers 0, 1, 2...6 (since you know Python programming, you prefer starting a sequence with 0). Some of your friends have decided to go all berries so you now get the following orders: 5 banana smoothies, 3 strawberry-banana smoothies, 2 triple-berry smoothies. You by the blender in the kitchen:"
   ]
  },
  {
   "cell_type": "code",
   "execution_count": null,
   "metadata": {},
   "outputs": [],
   "source": [
    "# ingredients list\n",
    "ingredients = [\"strawberries\", \"blackberries\", \"raspberries\", \"bananas\", \"peaches\", \"mangoes\", \"oranges\"]\n",
    "\n",
    "# make 5 banana smoothies\n",
    "for i in range(5):\n",
    "    print(\"Add\", ingredients[3])\n",
    "    print(\"Add vanilla yogurt, milk, and ice\")\n",
    "    print(\"Blend\")\n",
    "    print(\"---A\", ingredients[3], \"smoothies has been made---\")\n",
    "    \n",
    "# make 3 strawberry-banana smoothies\n",
    "for i in range(3):\n",
    "    print(\"Add\", ingredients[0])\n",
    "    print(\"Add\", ingredients[3])\n",
    "    print(\"Add vanilla yogurt, milk, and ice\")\n",
    "    print(\"Blend\")\n",
    "    print(\"---A\", ingredients[0], ingredients[3], \"smoothies has been made---\")\n",
    "\n",
    "# make 2 triple-berry smoothies\n",
    "for i in range(2):\n",
    "    print(\"Add\", ingredients[0])\n",
    "    print(\"Add\", ingredients[1])\n",
    "    print(\"Add\", ingredients[2])\n",
    "    print(\"Add vanilla yogurt, milk, and ice\")\n",
    "    print(\"Blend\")\n",
    "    print(\"---A\", ingredients[0], ingredients[1], ingredients[2], \"smoothies has been made---\")"
   ]
  },
  {
   "cell_type": "markdown",
   "metadata": {},
   "source": [
    "## Scenario 3: a super-duper interesting group of friends\n",
    "Your friends are very adventerous so they want to be creative with the recipes. They've decided that they would randomly choose items from your ingredients list, hand those items to you so that you can make their very own smoothies for them. You by the blender in the kitchen:"
   ]
  },
  {
   "cell_type": "code",
   "execution_count": null,
   "metadata": {},
   "outputs": [],
   "source": [
    "# ingredients list\n",
    "# can comment-out the line below if the list is already defined\n",
    "ingredients = [\"strawberries\", \"blackberries\", \"raspberries\", \"bananas\", \"peaches\", \"mangoes\", \"oranges\"]\n",
    "\n",
    "# general steps to make a smoothies\n",
    "def Make_Smoothies(quantity, ingredients_list):\n",
    "    for i in range(quantity):\n",
    "        name = \"\"\n",
    "        for j in range(len(ingredients_list)):\n",
    "            print(\"Add\", ingredients_list[j])\n",
    "            name = name + \" \" + ingredients_list[j]\n",
    "        print(\"Add vanilla yogurt, milk, and ice\")\n",
    "        print(\"Blend\")\n",
    "        print(\"---A\", name, \"smoothies has been made---\")\n",
    "\n",
    "# make 1 mango smoothies\n",
    "#Make_Smoothies(1, ingredients[5]) # try this to see what happens (fun stuff)\n",
    "Make_Smoothies(1, [ ingredients[5] ])\n",
    "\n",
    "# make 3 raspberry-orange smoothies\n",
    "Make_Smoothies(3, [ ingredients[2], ingredients[6] ])\n",
    "\n",
    "# make 3 peach-mango-banana smoothies\n",
    "Make_Smoothies(3, ingredients[3:6] )\n",
    "\n",
    "# make 2 triple-berry-mango smoothies\n",
    "Make_Smoothies(2, ingredients[0:3] + [ingredients[5]])\n",
    "\n",
    "# make 1 all-in-one smoothies (probably a bad idea to drink this...)\n",
    "Make_Smoothies(1, ingredients)\n",
    "\n",
    "# after the whole frenzy, you just want a avocado-durian smoothies for yourself\n",
    "Make_Smoothies(1, [\"avocadoes\", \"durian\"])"
   ]
  },
  {
   "cell_type": "markdown",
   "metadata": {},
   "source": [
    "More friends of yours are coming, and they are bringing their own ingredients!"
   ]
  },
  {
   "cell_type": "code",
   "execution_count": null,
   "metadata": {},
   "outputs": [],
   "source": [
    "friends_ingredients = input(\"Hi friend! What ingredients have you got here? \").split()\n",
    "friends_quantity = int(input(\"How many smoothies can I make for ya? \"))\n",
    "print(\"-------------------------------------\")\n",
    "Make_Smoothies(friends_quantity, friends_ingredients)"
   ]
  },
  {
   "cell_type": "markdown",
   "metadata": {},
   "source": [
    "## Lab\n",
    "You're so skillful at making smoothies now and you've decided to open a smoothies shop. You've set the price for each type of ingredients, and how much a smoothies costs would depend on which ingredients the customer wants to add. Can you write a function for that?\n",
    "\n",
    "Hints: you can use 2 lists, one for ingredients and one for prices; or you can use dictionary type to store information about each ingredient."
   ]
  },
  {
   "cell_type": "code",
   "execution_count": null,
   "metadata": {},
   "outputs": [],
   "source": []
  }
 ],
 "metadata": {
  "kernelspec": {
   "display_name": "Python 3",
   "language": "python",
   "name": "python3"
  },
  "language_info": {
   "codemirror_mode": {
    "name": "ipython",
    "version": 3
   },
   "file_extension": ".py",
   "mimetype": "text/x-python",
   "name": "python",
   "nbconvert_exporter": "python",
   "pygments_lexer": "ipython3",
   "version": "3.8.1"
  }
 },
 "nbformat": 4,
 "nbformat_minor": 4
}
