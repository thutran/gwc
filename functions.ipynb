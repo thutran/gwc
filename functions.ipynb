{
 "cells": [
  {
   "cell_type": "markdown",
   "metadata": {},
   "source": [
    "# Functions\n",
    "\n",
    "**Contents:**<br/>\n",
    "[Review loops](#rev_loop)<br/>\n",
    "[Review lists](#rev_list)<br/>\n",
    "[Write a function](#func)<br/>\n",
    "[Lab](#lab)<br/>\n",
    "[General function structure](#skeleton)\n",
    "\n",
    "## Intro\n",
    "Imagine you're hosting a smoothie party and 10 of your friends are coming over. You have prepared the following ingredients: \n",
    "* strawberries\n",
    "* blackberries\n",
    "* raspberries\n",
    "* bananas\n",
    "* peaches\n",
    "* mangoes\n",
    "* oranges\n",
    "\n",
    "You are offering made-to-order smoothies, and that's how the frenzy begins...\n",
    "\n",
    "## Scenario 1: easy-to-please friends <a name=\"rev_loop\"></a>\n",
    "All of your friends love bananas and some also like strawberries. So you've got **7 orders of banana smoothies** and **3 orders of strawberry-banana smoothies**. You by the blender in the kitchen:\n",
    "\n",
    "#### Example code:"
   ]
  },
  {
   "cell_type": "code",
   "execution_count": null,
   "metadata": {},
   "outputs": [],
   "source": [
    "# make 7 banana smoothies\n",
    "for i in range(7):\n",
    "    print(\"Add bananas\")\n",
    "    print(\"Add vanilla yogurt, milk, and ice\")\n",
    "    print(\"Blend\")\n",
    "    print(\"---A banana smoothies has been made---\")"
   ]
  },
  {
   "cell_type": "markdown",
   "metadata": {},
   "source": [
    "#### Write your own code:"
   ]
  },
  {
   "cell_type": "code",
   "execution_count": null,
   "metadata": {},
   "outputs": [],
   "source": [
    "# make 3 strawberry-banana smoothies\n",
    "\n"
   ]
  },
  {
   "cell_type": "markdown",
   "metadata": {},
   "source": [
    "## Scenario 2: an organized host and a diverse group of friends <a name=\"rev_list\"></a>\n",
    "You're an organized person so you've separated each type of fruit to different containers and labeled them with numbers 0, 1, 2...6 (since you know Python programming, you prefer starting a sequence with 0). Some of your friends have decided to go all berries so you now get the following orders: \n",
    "* 5 banana smoothies\n",
    "* 3 strawberry-banana smoothies\n",
    "* 2 triple-berry smoothies\n",
    "\n",
    "You by the blender in the kitchen:\n",
    "\n",
    "#### Example code:"
   ]
  },
  {
   "cell_type": "code",
   "execution_count": null,
   "metadata": {},
   "outputs": [],
   "source": [
    "# ingredients list\n",
    "ingredients = [\"strawberries\", \"blackberries\", \"raspberries\", \"bananas\", \"peaches\", \"mangoes\", \"oranges\"]\n",
    "\n",
    "# make 5 banana smoothies\n",
    "for i in range(5):\n",
    "    print(\"Add\", ingredients[3])\n",
    "    print(\"Add vanilla yogurt, milk, and ice\")\n",
    "    print(\"Blend\")\n",
    "    print(\"---A\", ingredients[3], \"smoothies has been made---\")"
   ]
  },
  {
   "cell_type": "markdown",
   "metadata": {},
   "source": [
    "#### Write your own code:"
   ]
  },
  {
   "cell_type": "code",
   "execution_count": null,
   "metadata": {},
   "outputs": [],
   "source": [
    "# make 3 strawberry-banana smoothies\n",
    "\n",
    "\n",
    "# make 2 triple-berry smoothies\n",
    "\n"
   ]
  },
  {
   "cell_type": "markdown",
   "metadata": {},
   "source": [
    "## Scenario 3: a super-duper interesting group of friends <a name=\"func\"></a>\n",
    "Your friends are very adventerous so they want to be creative with the recipes. They've decided that they would randomly choose items from your ingredients list, hand those items to you so that you can make their very own smoothies for them. Here is the long list of orders:\n",
    "* 2 mango smoothies\n",
    "* 2 raspberry-orange smoothies\n",
    "* 2 peach-mango-banana smoothies\n",
    "* 2 triple-berry-mango smoothies\n",
    "* 2 all-in-one smoothies\n",
    "\n",
    "If you choose to blend the smoothies the old way, you'll have to write 5 `for` loops...But the contents of those loops are quite similar to each other; the only difference is the type of fruit being used. \n",
    "\n",
    "You can do better than just using `for`-loop. Here is how:"
   ]
  },
  {
   "cell_type": "code",
   "execution_count": null,
   "metadata": {},
   "outputs": [],
   "source": [
    "# general steps to make a smoothies\n",
    "def Make_Smoothies(quantity, ingredients_list):\n",
    "    for i in range(quantity):\n",
    "        name = \"\"\n",
    "        for j in range(len(ingredients_list)):\n",
    "            print(\"Add\", ingredients_list[j])\n",
    "            name = name + \" \" + ingredients_list[j]\n",
    "        print(\"Add vanilla yogurt, milk, and ice\")\n",
    "        print(\"Blend\")\n",
    "        print(\"---A\", name, \"smoothies has been made---\")\n",
    "#     return name # include this line to see what happens\n"
   ]
  },
  {
   "cell_type": "markdown",
   "metadata": {},
   "source": [
    "How to use the defined function:"
   ]
  },
  {
   "cell_type": "code",
   "execution_count": null,
   "metadata": {},
   "outputs": [],
   "source": [
    "# ingredients list\n",
    "# can comment-out the line below if the list is already defined\n",
    "ingredients = [\"strawberries\", \"blackberries\", \"raspberries\", \"bananas\", \"peaches\", \"mangoes\", \"oranges\"]\n",
    "\n",
    "\n",
    "# make 2 mango smoothies\n",
    "#Make_Smoothies(2, ingredients[5]) # try this to see what happens (fun stuff)\n",
    "Make_Smoothies(2, [ ingredients[5] ])\n",
    "\n",
    "# make 2 raspberry-orange smoothies\n",
    "Make_Smoothies(2, [ ingredients[2], ingredients[6] ])\n",
    "\n",
    "# make 2 peach-mango-banana smoothies\n",
    "Make_Smoothies(2, ingredients[3:6] )\n",
    "\n",
    "# make 2 triple-berry-mango smoothies\n",
    "Make_Smoothies(2, ingredients[0:3] + [ ingredients[5] ])\n",
    "\n",
    "# make 2 all-in-one smoothies (probably a bad idea to drink this...)\n",
    "Make_Smoothies(2, ingredients)\n",
    "\n",
    "# after the whole frenzy, you just want a avocado-durian smoothies for yourself\n",
    "Make_Smoothies(1, [\"avocadoes\", \"durian\"])"
   ]
  },
  {
   "cell_type": "markdown",
   "metadata": {},
   "source": [
    "More friends of yours are coming, and they are bringing their own ingredients!"
   ]
  },
  {
   "cell_type": "code",
   "execution_count": null,
   "metadata": {},
   "outputs": [],
   "source": [
    "friends_ingredients = input(\"Hi friend! What ingredients have you got here? \").split()\n",
    "friends_quantity = int(input(\"How many smoothies can I make for ya? \"))\n",
    "print(\"-------------------------------------\")\n",
    "Make_Smoothies(friends_quantity, friends_ingredients)"
   ]
  },
  {
   "cell_type": "markdown",
   "metadata": {},
   "source": [
    "***\n",
    "\n",
    "# Lab <a name=\"lab\"></a>\n",
    "\n",
    "## Lab 1: Happy Birthday song\n",
    "\n",
    "Imagine that you're part of the team behind a virtual assistant like Amazon Alexa, Google Assistant, Microsoft Cortana, or Apple Siri. Your team is building a \"Sing Happy Birthday song\" skill for the virtual assistant and your task is to write a function which outputs the lyrics of the song. The lyrics can be general or tailored to a specific name. Here you go..\n",
    "\n",
    "### Write your own code\n",
    "You can either write your function in cell below or use IDLE on your computer.\n"
   ]
  },
  {
   "cell_type": "code",
   "execution_count": null,
   "metadata": {},
   "outputs": [],
   "source": [
    "# Get_Happy_Birthday_Song_Lyrics function\n",
    "# input: optional (string) name\n",
    "# output: (string) lyrics\n",
    "\n"
   ]
  },
  {
   "cell_type": "markdown",
   "metadata": {},
   "source": [
    "*** \n",
    "\n",
    "## Lab 2: Birth year and zodiac\n",
    "On the first session with IDLE, you wrote some code to ask the user for their age and output their birth year. Can you take it a bit further by telling them not only their birth year but also their [zodiac](https://en.wikipedia.org/wiki/Chinese_zodiac)?\n",
    "\n",
    "Zodiac signs are widely known in Asian cultures. In this classification scheme, each year is assigned to an animal (the zodiac sign) in the 12-element zodiac list. There are many stories about why those animals were chosen but we will not discuss in details here. The order of the zodiac signs is fixed and the cycle repeats every 12 years. Different counties have different variations of the zodiac list, here is an example from the Chinese zodiac:\n",
    "\n",
    "1. Mouse/Rat\n",
    "2. Ox\n",
    "3. Tiger \n",
    "4. Rabbit\n",
    "5. Dragon\n",
    "6. Snake\n",
    "7. Horse\n",
    "8. Goat\n",
    "9. Monkey\n",
    "10. Rooster\n",
    "11. Dog\n",
    "12. Pig\n",
    "\n",
    "We know that 1900 and 2020 are years of the Mouse. Can you write a function which asks the user to input their age (as of 31 December 2020) and  outputs (e.g. `return` or `print`) their zodiac sign based on the list above?\n",
    "\n",
    "### Test your function\n",
    "Here are a couple age-zodiac pairs you can test:\n",
    "\n",
    "age | zodiac\n",
    "----|-------\n",
    "12  | Mouse\n",
    "27  | Rooster\n",
    "13  | Pig\n",
    "35  | Ox\n",
    "16  | Monkey\n"
   ]
  },
  {
   "cell_type": "code",
   "execution_count": null,
   "metadata": {},
   "outputs": [],
   "source": [
    "def Test_Zodiac(function, age, expected_zodiac):\n",
    "    assert (function(age).lower() == expected_zodiac.lower()), \"Mismatch age-zodiac\"\n",
    "    print(\"Pass\", function.__name__, str(age), expected_zodiac)\n",
    "\n",
    "# usage examples:\n",
    "# the function must return a string\n",
    "# Test_Zodiac(Calculate_Birthyear_Zodiac, 12, \"Mouse\")\n",
    "# Test_Zodiac(Calculate_Birthyear_Zodiac, 27, \"Rooster\")\n",
    "# Test_Zodiac(Calculate_Birthyear_Zodiac, 13, \"Pig\")"
   ]
  },
  {
   "cell_type": "markdown",
   "metadata": {},
   "source": [
    "### Write your own code"
   ]
  },
  {
   "cell_type": "code",
   "execution_count": null,
   "metadata": {},
   "outputs": [],
   "source": [
    "# Calculate_Birthyear_Zodiac function\n",
    "# input: (int) age\n",
    "# output: (string) zodiac\n",
    "\n"
   ]
  },
  {
   "cell_type": "markdown",
   "metadata": {},
   "source": [
    "***\n",
    "\n",
    "## Lab 3: Human vs Machine\n",
    "\n",
    "We did a rock-paper-scissors championship as part of the activities in Conditionals session. Now let's write a function so that we can play rock-paper-scissors with the computer. The function would take the user's choice (either \"rock\" or \"paper\" or \"scissors\") as a input, generate random choice for the computer, compare the two choices, then output the result of the game.\n",
    "\n",
    "### Write your own code"
   ]
  },
  {
   "cell_type": "code",
   "execution_count": null,
   "metadata": {},
   "outputs": [],
   "source": [
    "# Play_RPC_With_Computer function\n",
    "# input: \n",
    "# output:"
   ]
  },
  {
   "cell_type": "markdown",
   "metadata": {},
   "source": [
    "***\n",
    "\n",
    "## Lab 4: Smoothies shop\n",
    "You're very skillful at making smoothies now so you've decided to open a smoothies shop. You've set the price for each type of ingredients; how much a smoothies costs would depend on which ingredients the customer wants to add. Can you write a function to make smoothies and return the total price of the smoothies? If you record the price of each smoothies sold, you can also calculate the total revenue you have made.\n",
    "\n",
    "Hints: you can use 2 lists, one for ingredients and one for prices; or you can use dictionary type to store information about each ingredient.\n",
    "\n",
    "$\\begin{aligned}\n",
    "\\text{price_smoothies} &= \\text{price_ingredient}_0 + \\text{price_ingredient}_1 + \\text{price_ingredient}_2 + ... \\\\\n",
    "\\text{price_order} &= \\text{quantity} \\times \\text{price_smoothies} \\\\\n",
    "\\text{revenue} &= \\text{price_order}_0 +  \\text{price_order}_1 + \\text{price_order}_2 + \\text{price_order}_3 + ...\n",
    "\\end{aligned}$\n",
    "\n",
    "\n",
    "### Test your function\n",
    "Suppose your have the following ingredients:\n",
    "\n",
    " ingredient    | price   \n",
    "---------------|--------:\n",
    " apples        | \\$1.30  \n",
    " strawberries  | \\$2.50    \n",
    " cherries      | \\$3.20    \n",
    "\n",
    "\n",
    "This morning you got the following orders:\n",
    "\n",
    " order no\\.| ingredient                     | quantity   \n",
    ":---------:|:-------------------------------|----------:\n",
    " 1         | strawberries                   | 4  \n",
    " 2         | apples                         | 2\n",
    " 3         | apples, strawberries           | 3\n",
    " 4         | apples, strawberries, cherries | 1\n",
    " \n",
    "\n",
    "So, the your revenue this morning should be **31.00** dollars:\n",
    "\n",
    "\\begin{aligned}\n",
    "       & 4 \\times 2.50 \\\\\n",
    "+\\quad & 2 \\times 1.30 \\\\\n",
    "+\\quad & 3 \\times (1.30 + 2.50) \\\\\n",
    "+\\quad & 1 \\times (1.30 + 2.50 + 3.20) \\\\\n",
    "=\\quad & 31.00 \n",
    "\\end{aligned}\n",
    "\n",
    "\n",
    "### Write your own code"
   ]
  },
  {
   "cell_type": "code",
   "execution_count": null,
   "metadata": {},
   "outputs": [],
   "source": [
    "# function\n",
    "# input: (int) quantity, (list) ingredients list\n",
    "# content: add ingredients and blend, calculate total price\n",
    "# output: (double) total price \n",
    "\n"
   ]
  },
  {
   "cell_type": "markdown",
   "metadata": {},
   "source": [
    "***\n",
    "\n",
    "# General code for a function: <a name=\"skeleton\"></a>"
   ]
  },
  {
   "cell_type": "code",
   "execution_count": null,
   "metadata": {
    "scrolled": true
   },
   "outputs": [],
   "source": [
    "def Function_Name ( required_argument, optional_argument=None ) : \n",
    "    # what the function has\n",
    "    # local variables (only available for use within this function)\n",
    "    # example\n",
    "    intro = \"I'm a function\"\n",
    "    outro = \"-----bye-----\"\n",
    "    \n",
    "    # what the function does\n",
    "    # example\n",
    "    print(intro)\n",
    "    print(\"Value of required_argument:\", required_argument)\n",
    "    if optional_argument is not None :\n",
    "        print(\"Value of optional_argument:\", optional_argument)\n",
    "    else :\n",
    "        print(\"No value for optional_argument was provided\")\n",
    "    print(outro)\n",
    "    \n",
    "    return intro + \" \" + str(required_argument) # if needed\n",
    "\n",
    "\n",
    "# call the function\n",
    "Function_Name(123)\n",
    "Function_Name(\"Nineteen Eighty-Four\", 3.1415926535)\n",
    "Function_Name(\"anything goes\")"
   ]
  }
 ],
 "metadata": {
  "kernelspec": {
   "display_name": "Python 3",
   "language": "python",
   "name": "python3"
  },
  "language_info": {
   "codemirror_mode": {
    "name": "ipython",
    "version": 3
   },
   "file_extension": ".py",
   "mimetype": "text/x-python",
   "name": "python",
   "nbconvert_exporter": "python",
   "pygments_lexer": "ipython3",
   "version": "3.8.1"
  }
 },
 "nbformat": 4,
 "nbformat_minor": 4
}
